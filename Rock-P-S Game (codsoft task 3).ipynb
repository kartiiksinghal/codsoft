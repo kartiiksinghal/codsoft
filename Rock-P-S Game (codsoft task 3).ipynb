{
 "cells": [
  {
   "cell_type": "code",
   "execution_count": 1,
   "id": "c534e454",
   "metadata": {},
   "outputs": [
    {
     "name": "stdout",
     "output_type": "stream",
     "text": [
      "------------------------Codsoft Task-3------------------------\n",
      "ROCK-PAPER-SCISSORS GAME\n",
      "Choose (r/p/s): r\n",
      "You chose r. Computer chose r.\n",
      "It's a tie!\n",
      "Your Score: 0\n",
      "Computer Score: 0\n",
      "Play again? (yes/no): yes\n",
      "Choose (r/p/s): p\n",
      "You chose p. Computer chose r.\n",
      "You win!\n",
      "Your Score: 1\n",
      "Computer Score: 0\n",
      "Play again? (yes/no): yes\n",
      "Choose (r/p/s): s\n",
      "You chose s. Computer chose s.\n",
      "It's a tie!\n",
      "Your Score: 1\n",
      "Computer Score: 0\n",
      "Play again? (yes/no): no\n",
      "Thanks for playing!\n"
     ]
    }
   ],
   "source": [
    "print(\"------------------------Codsoft Task-3------------------------\")\n",
    "print(\"ROCK-PAPER-SCISSORS GAME\")\n",
    "\n",
    "import random\n",
    "\n",
    "# Function to determine the winner of a round\n",
    "def determine_winner(user_choice, bot_choice):\n",
    "    if user_choice == bot_choice:\n",
    "        return \"It's a tie!\"\n",
    "    elif (user_choice == \"r\" and bot_choice == \"s\") or \\\n",
    "         (user_choice == \"s\" and bot_choice == \"p\") or \\\n",
    "         (user_choice == \"p\" and bot_choice == \"r\"):\n",
    "        return \"You win!\"\n",
    "    else:\n",
    "        return \"Computer wins!\"\n",
    "\n",
    "# Initializing scores\n",
    "user_score = 0\n",
    "bot_score = 0\n",
    "\n",
    "# Main loop\n",
    "while True:\n",
    "    \n",
    "    # Asking user to choose rock (r), paper (p), or scissors (s)\n",
    "    user_choice = input(\"Choose (r/p/s): \").lower()\n",
    "    \n",
    "    # Validating user input\n",
    "    if user_choice not in [\"r\", \"p\", \"s\"]:\n",
    "        print(\"Invalid choice. Please choose (r) for rock, (p) for paper, or (s) for scissors.\")\n",
    "        continue\n",
    "    \n",
    "    # Generating random choice for computer\n",
    "    choices = [\"r\", \"p\", \"s\"]\n",
    "    bot_choice = random.choice(choices)\n",
    "    \n",
    "    # Determine the winner and display the result\n",
    "    result = determine_winner(user_choice, bot_choice)\n",
    "    print(f\"You chose {user_choice}. Computer chose {bot_choice}.\")\n",
    "    print(result)\n",
    "    \n",
    "    # Update scorecard\n",
    "    if result == \"You win!\":\n",
    "        user_score += 1\n",
    "    elif result == \"Computer wins!\":\n",
    "        bot_score += 1\n",
    "    \n",
    "    # Display current scores\n",
    "    print(f\"Your Score: {user_score}\")\n",
    "    print(f\"Computer Score: {bot_score}\")\n",
    "    \n",
    "    # Asking if user wants to play again\n",
    "    play_again = input(\"Play again? (yes/no): \").lower()\n",
    "    if play_again != \"yes\":\n",
    "        print(\"Thanks for playing!\")\n",
    "        break\n"
   ]
  },
  {
   "cell_type": "code",
   "execution_count": null,
   "id": "5ceb69f7",
   "metadata": {},
   "outputs": [],
   "source": []
  }
 ],
 "metadata": {
  "kernelspec": {
   "display_name": "Python 3 (ipykernel)",
   "language": "python",
   "name": "python3"
  },
  "language_info": {
   "codemirror_mode": {
    "name": "ipython",
    "version": 3
   },
   "file_extension": ".py",
   "mimetype": "text/x-python",
   "name": "python",
   "nbconvert_exporter": "python",
   "pygments_lexer": "ipython3",
   "version": "3.11.4"
  }
 },
 "nbformat": 4,
 "nbformat_minor": 5
}
