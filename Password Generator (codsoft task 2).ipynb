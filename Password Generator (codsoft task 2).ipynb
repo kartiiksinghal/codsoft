{
 "cells": [
  {
   "cell_type": "code",
   "execution_count": 1,
   "id": "dd1dbbd4",
   "metadata": {},
   "outputs": [
    {
     "name": "stdout",
     "output_type": "stream",
     "text": [
      "------------------------Codsoft Task-2------------------------\n",
      "PASSWORD GENERATOR\n",
      "Enter password length: 8\n",
      "Generated Password: Bf<\"_bJ-\n"
     ]
    }
   ],
   "source": [
    "print(\"------------------------Codsoft Task-2------------------------\")\n",
    "print(\"PASSWORD GENERATOR\")\n",
    "\n",
    "# Importing necessary libraries\n",
    "import random\n",
    "import string\n",
    "\n",
    "def generate_pass(length):\n",
    "    characters = string.ascii_letters + string.digits + string.punctuation\n",
    "    password = ''.join(random.choice(characters) for _ in range(length))\n",
    "    return password\n",
    "\n",
    "# Asking user for password length\n",
    "while True:\n",
    "    pass_len = input(\"Enter password length: \")\n",
    "\n",
    "    if pass_len.isdigit() and int(pass_len) > 0:\n",
    "        pass_len = int(pass_len)\n",
    "        break\n",
    "    else:\n",
    "        print(\"Invalid input. Please enter a positive integer.\")\n",
    "\n",
    "# Generating and displaying the password\n",
    "generated_pass = generate_pass(pass_len)\n",
    "print(\"Generated Password:\", generated_pass)\n"
   ]
  },
  {
   "cell_type": "code",
   "execution_count": null,
   "id": "68f79d52",
   "metadata": {},
   "outputs": [],
   "source": []
  }
 ],
 "metadata": {
  "kernelspec": {
   "display_name": "Python 3 (ipykernel)",
   "language": "python",
   "name": "python3"
  },
  "language_info": {
   "codemirror_mode": {
    "name": "ipython",
    "version": 3
   },
   "file_extension": ".py",
   "mimetype": "text/x-python",
   "name": "python",
   "nbconvert_exporter": "python",
   "pygments_lexer": "ipython3",
   "version": "3.11.4"
  }
 },
 "nbformat": 4,
 "nbformat_minor": 5
}
